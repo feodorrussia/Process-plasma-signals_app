{
 "cells": [
  {
   "cell_type": "code",
   "execution_count": null,
   "id": "initial_id",
   "metadata": {
    "ExecuteTime": {
     "end_time": "2025-03-05T15:44:15.761192Z",
     "start_time": "2025-03-05T15:44:14.465597Z"
    }
   },
   "outputs": [],
   "source": [
    "import pandas as pd\n",
    "import numpy as np\n",
    "\n",
    "from source.Files_operating import read_sht_df\n",
    "from source.Plotting import plot_shoot\n",
    "from source.Signal_processing import dbs_A_dFi, get_shoot_slices"
   ]
  },
  {
   "cell_type": "code",
   "execution_count": null,
   "id": "33d56cc839443870",
   "metadata": {
    "ExecuteTime": {
     "end_time": "2025-03-05T15:44:15.766996Z",
     "start_time": "2025-03-05T15:44:15.763097Z"
    }
   },
   "outputs": [],
   "source": [
    "# Main params\n",
    "\n",
    "F_ID = 41226  # NUM (ID) OF CURRENT SHOOT\n",
    "\n",
    "# Paths\n",
    "proj_path = \"C:/Users/f.belous/Work/Projects/Plasma_analysis\"  # GLOBAL PATH TO PROJECT DIR - EDIT ONES\n",
    "sht_dir_path = proj_path + \"/data/sht/all/\"  # GLOBAL PATH TO SHOOTS SHT DIR - EDIT ONES\n",
    "dbs_dir_path = proj_path + \"/data/dbs/sht/\"  # GLOBAL PATH TO Dref SHT FILES DIR - EDIT ONES\n",
    "\n",
    "# Filter & smoothing params\n",
    "w = 0.8  # recent filtering param (better don't touch)\n",
    "smooth_length = 200  # DBS points ( smooth_length / 4 = timedelta (msc) )\n",
    "plot_smoothing = 100  # Smoothing points on plot"
   ]
  },
  {
   "cell_type": "code",
   "execution_count": null,
   "id": "a43a57fa91b0c1ae",
   "metadata": {
    "ExecuteTime": {
     "end_time": "2025-03-05T15:44:18.532883Z",
     "start_time": "2025-03-05T15:44:15.767997Z"
    }
   },
   "outputs": [],
   "source": [
    "# Loading shoot data from SHT file in \"sht_dir_path\"\n",
    "\n",
    "df = read_sht_df(f'sht{F_ID}', sht_dir_path,\n",
    "                 column_names=[  #  SHT NAMES OF CHANNELS\n",
    "                     \"D-alfa  хорда R=50 cm\",\n",
    "                     \"SXR 50 mkm\",\n",
    "                     \"nl 42 cm (1.5мм) 64pi\",\n",
    "                     \"МГД быстрый зонд верт.\",\n",
    "                     \"МГД быстрый зонд рад.\",\n",
    "                 ],\n",
    "                 data_names=[  # NAMES IN DF (eng & better to make it short & lowercase)\n",
    "                    \"d_alpha\",\n",
    "                     \"sxr\",\n",
    "                     \"nl\",\n",
    "                     \"mgd_v\",\n",
    "                     \"mgd_r\",\n",
    "                 ])\n",
    "\n",
    "df[\"mhd\"] = df.mgd_v.to_numpy() ** 2 + df.mgd_r.to_numpy() ** 2\n",
    "\n",
    "df.describe()"
   ]
  },
  {
   "cell_type": "code",
   "execution_count": null,
   "id": "a73b899001e08d4d",
   "metadata": {
    "ExecuteTime": {
     "end_time": "2025-03-05T15:44:19.434383Z",
     "start_time": "2025-03-05T15:44:18.533896Z"
    }
   },
   "outputs": [],
   "source": [
    "# Loading DBS data from \"dbs_dir_path\"\n",
    "# Check existing of Dref file for this shoot!\n",
    "\n",
    "channels = [3, 4, 5, 6, 7, 8]  # 1, 2, 3, 4, 5, 6, 7, 8 | DBS channels - to get frequency get journal of this shoot for DBS \n",
    "# (old: 1,2 - 39 GHz, ...; new: 1,2 - 20 GHz)\n",
    "dbs_df = read_sht_df(f'Dref{F_ID}', dbs_dir_path,\n",
    "                     column_names=[f\"ch{channel}\" for channel in channels])\n",
    "\n",
    "dbs_df.describe()"
   ]
  },
  {
   "cell_type": "code",
   "execution_count": null,
   "id": "c3d73aaf1608ccad",
   "metadata": {
    "ExecuteTime": {
     "end_time": "2025-03-05T15:44:20.004832Z",
     "start_time": "2025-03-05T15:44:19.437404Z"
    }
   },
   "outputs": [],
   "source": [
    "# Gets A & dFi\n",
    "# Check filter param - \"w\" & smoothing param - \"smooth_length\"!\n",
    "dbs_A_dFi(dbs_df, w, smooth_length)\n",
    "\n",
    "dbs_df.describe()"
   ]
  },
  {
   "cell_type": "code",
   "execution_count": null,
   "id": "a12904df43c21b85",
   "metadata": {
    "ExecuteTime": {
     "end_time": "2025-03-05T15:44:20.778470Z",
     "start_time": "2025-03-05T15:44:20.005872Z"
    }
   },
   "outputs": [],
   "source": [
    "# Gets slices by SXR fall & split first slice (before first SXR fall)\n",
    "\n",
    "res_slices_edges = get_shoot_slices(df.d_alpha, df.sxr)"
   ]
  },
  {
   "cell_type": "markdown",
   "id": "ede76b7a6522849b",
   "metadata": {},
   "source": [
    "---"
   ]
  },
  {
   "cell_type": "code",
   "execution_count": null,
   "id": "d1fa9cde464dff36",
   "metadata": {
    "ExecuteTime": {
     "end_time": "2025-03-05T15:44:20.782878Z",
     "start_time": "2025-03-05T15:44:20.780217Z"
    }
   },
   "outputs": [],
   "source": [
    "# Lists for saving data\n",
    "# DO NOT RUN WHILE MARKING ONE SHOOT -- CLEAR ALL CURRENT DATA\n",
    "\n",
    "df_groups_arr = []  # l_edge, r_edge, n, fr, fr_std\n",
    "df_points_arr = []"
   ]
  },
  {
   "cell_type": "code",
   "execution_count": null,
   "id": "bede99e310be0276",
   "metadata": {
    "ExecuteTime": {
     "end_time": "2025-03-05T15:44:30.240815Z",
     "start_time": "2025-03-05T15:44:20.783878Z"
    }
   },
   "outputs": [],
   "source": [
    "# Plotting cell\n",
    "# You can set start index or input number of wanted slices (check twice)\n",
    "start_index = 0\n",
    "plot_shoot(F_ID, res_slices_edges, start_index, 2000,\n",
    "           df, dbs_df, plot_smoothing, df_groups_arr, df_points_arr)"
   ]
  },
  {
   "cell_type": "markdown",
   "id": "9f7d55cf0ed24d19",
   "metadata": {},
   "source": [
    "---\n",
    "---"
   ]
  },
  {
   "cell_type": "code",
   "execution_count": null,
   "id": "44658ec5840e8fe7",
   "metadata": {},
   "outputs": [],
   "source": [
    "# Stats of current data\n",
    "\n",
    "print(f\"Shot {F_ID}\\n----\")\n",
    "print(f\"Samples (total: {len(df_points_arr)}): EHO - {np.count_nonzero(np.array(df_points_arr)[:, 2] == 'eho')}, LCO - {np.count_nonzero(np.array(df_points_arr)[:, 2] == 'lco')}, dELM - {np.count_nonzero(np.array(df_points_arr)[:, 2] == 'delm')}\")\n",
    "print(f\"Groups (total: {len(df_groups_arr)}): EHO - {np.count_nonzero(np.array(df_groups_arr)[:, -1] == 'eho')}, LCO - {np.count_nonzero(np.array(df_groups_arr)[:, -1] == 'lco')}, dELM - {np.count_nonzero(np.array(df_groups_arr)[:, -1] == 'delm')}\")"
   ]
  },
  {
   "cell_type": "code",
   "execution_count": null,
   "id": "1b8b8cbe3c094b35",
   "metadata": {},
   "outputs": [],
   "source": [
    "# SAVE CURRENT DATA\n",
    "\n",
    "# l_edge, r_edge, n, fr, fr std\n",
    "gr_df = pd.DataFrame(sorted(df_groups_arr, key=lambda x: x[0]), columns=[\"l_edge\", \"r_edge\", \"n\", \"fr\", \"fr_std\", \"mark\"])\n",
    "p_df = pd.DataFrame(sorted(df_points_arr, key=lambda x: x[0]), columns=[\"timepoint, ms\", \"fr, kHz\", \"mark\"])\n",
    "\n",
    "gr_df.to_csv(f\"data/df/stats/groups/{F_ID}_groups_stats.csv\", index=False)\n",
    "p_df.to_csv(f\"data/df/stats/samples/{F_ID}_points_dataset.csv\", index=False)\n",
    "\n",
    "# DO NOT FORGET TO CLEAR DATA FROM ARRAYS \"df_groups_arr\" \"df_points_arr\" BEFORE MARKING NEXT SHOOT"
   ]
  },
  {
   "cell_type": "markdown",
   "id": "b4104549b05ee098",
   "metadata": {},
   "source": [
    "---"
   ]
  }
 ],
 "metadata": {
  "kernelspec": {
   "display_name": "Python 3 (ipykernel)",
   "language": "python",
   "name": "python3"
  },
  "language_info": {
   "codemirror_mode": {
    "name": "ipython",
    "version": 3
   },
   "file_extension": ".py",
   "mimetype": "text/x-python",
   "name": "python",
   "nbconvert_exporter": "python",
   "pygments_lexer": "ipython3",
   "version": "3.11.7"
  }
 },
 "nbformat": 4,
 "nbformat_minor": 5
}

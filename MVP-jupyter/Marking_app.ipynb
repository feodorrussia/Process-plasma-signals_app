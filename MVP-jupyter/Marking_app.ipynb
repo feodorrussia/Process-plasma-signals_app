{
 "cells": [
  {
   "cell_type": "code",
   "execution_count": null,
   "id": "initial_id",
   "metadata": {
    "collapsed": true
   },
   "outputs": [],
   "source": [
    "import pandas as pd\n",
    "import numpy as np\n",
    "\n",
    "from source.Files_operating import read_sht_df\n",
    "from source.Plotting import plot_shoot\n",
    "from source.Signal_processing import dbs_A_dFi, get_shoot_slices"
   ]
  },
  {
   "metadata": {},
   "cell_type": "code",
   "outputs": [],
   "execution_count": null,
   "source": [
    "# Main params\n",
    "\n",
    "F_ID = 41226  # NUM (ID) OF CURRENT SHOOT\n",
    "\n",
    "# Paths\n",
    "proj_path = \"C:/Users/f.belous/Work/Projects/Plasma_analysis\"  # GLOBAL PATH TO PROJECT DIR - EDIT ONES\n",
    "sht_dir_path = proj_path + \"/data/sht/all/\"  # GLOBAL PATH TO SHOOTS SHT DIR - EDIT ONES\n",
    "dbs_dir_path = proj_path + \"/data/dbs/sht/\"  # GLOBAL PATH TO Dref SHT FILES DIR - EDIT ONES\n",
    "\n",
    "# Filter & smoothing params\n",
    "w = 0.8  # recent filtering param (better don't touch)\n",
    "smooth_length = 200  # DBS points ( smooth_length / 4 = timedelta (msc) )\n",
    "plot_smoothing = 100  # Smoothing points on plot"
   ],
   "id": "33d56cc839443870"
  },
  {
   "metadata": {},
   "cell_type": "code",
   "outputs": [],
   "execution_count": null,
   "source": [
    "# Loading shoot data from SHT file in \"sht_dir_path\"\n",
    "\n",
    "df = read_sht_df(f'sht{F_ID}', sht_dir_path,\n",
    "                 column_names=[  #  SHT NAMES OF CHANNELS\n",
    "                     \"D-alfa  хорда R=50 cm\",\n",
    "                     \"SXR 50 mkm\",\n",
    "                     \"nl 42 cm (1.5мм) 64pi\",\n",
    "                     \"МГД быстрый зонд верт.\",\n",
    "                     \"МГД быстрый зонд рад.\",\n",
    "                 ],\n",
    "                 data_names=[  # NAMES IN DF (eng & better to make it short & lowercase)\n",
    "                    \"d_alpha\",\n",
    "                     \"sxr\",\n",
    "                     \"nl\",\n",
    "                     \"mgd_v\",\n",
    "                     \"mgd_r\",\n",
    "                 ])\n",
    "\n",
    "df.describe()"
   ],
   "id": "a43a57fa91b0c1ae"
  },
  {
   "metadata": {},
   "cell_type": "code",
   "outputs": [],
   "execution_count": null,
   "source": [
    "# Loading DBS data from \"dbs_dir_path\"\n",
    "# Check existing of Dref file for this shoot!\n",
    "\n",
    "channels = [3, 4, 5, 6, 7, 8]  # 1, 2, 3, 4, 5, 6, 7, 8 | DBS channels - to get frequency get journal of this shoot for DBS \n",
    "# (old: 1,2 - 39 GHz, ...; new: 1,2 - 20 GHz)\n",
    "dbs_df = read_sht_df(f'Dref{F_ID}', dbs_dir_path,\n",
    "                     column_names=[f\"ch{channel}\" for channel in channels])\n",
    "\n",
    "dbs_df.describe()"
   ],
   "id": "a73b899001e08d4d"
  },
  {
   "metadata": {},
   "cell_type": "code",
   "outputs": [],
   "execution_count": null,
   "source": [
    "# Gets A & dFi\n",
    "# Check filter param - \"w\" & smoothing param - \"smooth_length\"!\n",
    "\n",
    "dbs_A_dFi(dbs_df, w, smooth_length)\n",
    "\n",
    "dbs_df.describe()"
   ],
   "id": "c3d73aaf1608ccad"
  },
  {
   "metadata": {},
   "cell_type": "code",
   "outputs": [],
   "execution_count": null,
   "source": [
    "# Gets slices by SXR fall & split first slice (before first SXR fall)\n",
    "\n",
    "res_slices_edges = get_shoot_slices(df.d_alpha, df.sxr)"
   ],
   "id": "a12904df43c21b85"
  },
  {
   "metadata": {},
   "cell_type": "markdown",
   "source": "---",
   "id": "ede76b7a6522849b"
  },
  {
   "metadata": {
    "ExecuteTime": {
     "end_time": "2025-03-05T14:53:41.090560Z",
     "start_time": "2025-03-05T14:53:41.083795Z"
    }
   },
   "cell_type": "code",
   "source": [
    "# Lists for saving data\n",
    "# DO NOT RUN WHILE MARKING ONE SHOOT -- CLEAR ALL CURRENT DATA\n",
    "\n",
    "df_groups_arr = []  # l_edge, r_edge, n, fr, fr_std\n",
    "df_points_arr = []"
   ],
   "id": "d1fa9cde464dff36",
   "outputs": [],
   "execution_count": 1
  },
  {
   "metadata": {},
   "cell_type": "code",
   "outputs": [],
   "execution_count": null,
   "source": [
    "# Plotting cell\n",
    "# You can set start index or input number of wanted slices (check twice)\n",
    "start_index = 0\n",
    "plot_shoot(F_ID, res_slices_edges, start_index, 2000,\n",
    "           df, dbs_df, plot_smoothing, df_groups_arr, df_points_arr)"
   ],
   "id": "bede99e310be0276"
  },
  {
   "metadata": {},
   "cell_type": "markdown",
   "source": [
    "---\n",
    "---"
   ],
   "id": "9f7d55cf0ed24d19"
  },
  {
   "metadata": {},
   "cell_type": "code",
   "outputs": [],
   "execution_count": null,
   "source": [
    "# Stats of current data\n",
    "\n",
    "print(f\"Shot {F_ID}\\n----\")\n",
    "print(f\"Samples (total: {len(df_points_arr)}): EHO - {np.count_nonzero(np.array(df_points_arr)[:, 2] == 'eho')}, LCO - {np.count_nonzero(np.array(df_points_arr)[:, 2] == 'lco')}, dELM - {np.count_nonzero(np.array(df_points_arr)[:, 2] == 'delm')}\")\n",
    "print(f\"Groups (total: {len(df_groups_arr)}): EHO - {np.count_nonzero(np.array(df_groups_arr)[:, -1] == 'eho')}, LCO - {np.count_nonzero(np.array(df_groups_arr)[:, -1] == 'lco')}, dELM - {np.count_nonzero(np.array(df_groups_arr)[:, -1] == 'delm')}\")"
   ],
   "id": "44658ec5840e8fe7"
  },
  {
   "metadata": {},
   "cell_type": "code",
   "outputs": [],
   "execution_count": null,
   "source": [
    "# SAVE CURRENT DATA\n",
    "\n",
    "# l_edge, r_edge, n, fr, fr std\n",
    "gr_df = pd.DataFrame(sorted(df_groups_arr, key=lambda x: x[0]), columns=[\"l_edge\", \"r_edge\", \"n\", \"fr\", \"fr_std\", \"mark\"])\n",
    "p_df = pd.DataFrame(sorted(df_points_arr, key=lambda x: x[0]), columns=[\"timepoint, ms\", \"fr, kHz\", \"mark\"])\n",
    "\n",
    "gr_df.to_csv(f\"data/df/stats/groups/{F_ID}_groups_stats.csv\", index=False)\n",
    "p_df.to_csv(f\"data/df/stats/samples/{F_ID}_points_dataset.csv\", index=False)\n",
    "\n",
    "# DO NOT FORGET TO CLEAR DATA FROM ARRAYS \"df_groups_arr\" \"df_points_arr\" BEFORE MARKING NEXT SHOOT"
   ],
   "id": "1b8b8cbe3c094b35"
  },
  {
   "metadata": {},
   "cell_type": "markdown",
   "source": "---",
   "id": "b4104549b05ee098"
  }
 ],
 "metadata": {
  "kernelspec": {
   "display_name": "Python 3",
   "language": "python",
   "name": "python3"
  },
  "language_info": {
   "codemirror_mode": {
    "name": "ipython",
    "version": 2
   },
   "file_extension": ".py",
   "mimetype": "text/x-python",
   "name": "python",
   "nbconvert_exporter": "python",
   "pygments_lexer": "ipython2",
   "version": "2.7.6"
  }
 },
 "nbformat": 4,
 "nbformat_minor": 5
}
